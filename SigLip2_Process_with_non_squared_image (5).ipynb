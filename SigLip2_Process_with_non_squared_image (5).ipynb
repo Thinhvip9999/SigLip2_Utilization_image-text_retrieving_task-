{
  "nbformat": 4,
  "nbformat_minor": 0,
  "metadata": {
    "colab": {
      "provenance": [],
      "gpuType": "T4",
      "machine_shape": "hm"
    },
    "kernelspec": {
      "name": "python3",
      "display_name": "Python 3"
    },
    "language_info": {
      "name": "python"
    },
    "accelerator": "GPU"
  },
  "cells": [
    {
      "cell_type": "code",
      "source": [
        "!python --version"
      ],
      "metadata": {
        "id": "7bzmcBC6CfRs",
        "outputId": "4933f176-841f-4975-c6cb-3b1483cc1b00",
        "colab": {
          "base_uri": "https://localhost:8080/"
        }
      },
      "execution_count": 1,
      "outputs": [
        {
          "output_type": "stream",
          "name": "stdout",
          "text": [
            "Python 3.12.11\n"
          ]
        }
      ]
    },
    {
      "cell_type": "code",
      "execution_count": 2,
      "metadata": {
        "colab": {
          "base_uri": "https://localhost:8080/"
        },
        "id": "MAfIxWCe-d6B",
        "outputId": "045efee5-e66b-45ed-eb10-859eaacc2f78"
      },
      "outputs": [
        {
          "output_type": "stream",
          "name": "stdout",
          "text": [
            "Thu Aug 28 04:13:38 2025       \n",
            "+-----------------------------------------------------------------------------------------+\n",
            "| NVIDIA-SMI 550.54.15              Driver Version: 550.54.15      CUDA Version: 12.4     |\n",
            "|-----------------------------------------+------------------------+----------------------+\n",
            "| GPU  Name                 Persistence-M | Bus-Id          Disp.A | Volatile Uncorr. ECC |\n",
            "| Fan  Temp   Perf          Pwr:Usage/Cap |           Memory-Usage | GPU-Util  Compute M. |\n",
            "|                                         |                        |               MIG M. |\n",
            "|=========================================+========================+======================|\n",
            "|   0  Tesla T4                       Off |   00000000:00:04.0 Off |                    0 |\n",
            "| N/A   51C    P8             10W /   70W |       0MiB /  15360MiB |      0%      Default |\n",
            "|                                         |                        |                  N/A |\n",
            "+-----------------------------------------+------------------------+----------------------+\n",
            "                                                                                         \n",
            "+-----------------------------------------------------------------------------------------+\n",
            "| Processes:                                                                              |\n",
            "|  GPU   GI   CI        PID   Type   Process name                              GPU Memory |\n",
            "|        ID   ID                                                               Usage      |\n",
            "|=========================================================================================|\n",
            "|  No running processes found                                                             |\n",
            "+-----------------------------------------------------------------------------------------+\n",
            "  Preparing metadata (setup.py) ... \u001b[?25l\u001b[?25hdone\n",
            "  Preparing metadata (setup.py) ... \u001b[?25l\u001b[?25hdone\n",
            "  Preparing metadata (setup.py) ... \u001b[?25l\u001b[?25hdone\n",
            "\u001b[2K   \u001b[90m━━━━━━━━━━━━━━━━━━━━━━━━━━━━━━━━━━━━━━━━\u001b[0m \u001b[32m319.7/319.7 kB\u001b[0m \u001b[31m24.3 MB/s\u001b[0m eta \u001b[36m0:00:00\u001b[0m\n",
            "\u001b[2K   \u001b[90m━━━━━━━━━━━━━━━━━━━━━━━━━━━━━━━━━━━━━━━━\u001b[0m \u001b[32m251.9/251.9 MB\u001b[0m \u001b[31m4.0 MB/s\u001b[0m eta \u001b[36m0:00:00\u001b[0m\n",
            "\u001b[2K   \u001b[90m━━━━━━━━━━━━━━━━━━━━━━━━━━━━━━━━━━━━━━━━\u001b[0m \u001b[32m5.3/5.3 MB\u001b[0m \u001b[31m38.1 MB/s\u001b[0m eta \u001b[36m0:00:00\u001b[0m\n",
            "\u001b[2K   \u001b[90m━━━━━━━━━━━━━━━━━━━━━━━━━━━━━━━━━━━━━━━━\u001b[0m \u001b[32m367.1/367.1 kB\u001b[0m \u001b[31m33.4 MB/s\u001b[0m eta \u001b[36m0:00:00\u001b[0m\n",
            "\u001b[2K   \u001b[90m━━━━━━━━━━━━━━━━━━━━━━━━━━━━━━━━━━━━━━━━\u001b[0m \u001b[32m104.3/104.3 MB\u001b[0m \u001b[31m19.0 MB/s\u001b[0m eta \u001b[36m0:00:00\u001b[0m\n",
            "\u001b[2K   \u001b[90m━━━━━━━━━━━━━━━━━━━━━━━━━━━━━━━━━━━━━━━━\u001b[0m \u001b[32m901.6/901.6 kB\u001b[0m \u001b[31m48.9 MB/s\u001b[0m eta \u001b[36m0:00:00\u001b[0m\n",
            "\u001b[2K   \u001b[90m━━━━━━━━━━━━━━━━━━━━━━━━━━━━━━━━━━━━━━━━\u001b[0m \u001b[32m76.7/76.7 kB\u001b[0m \u001b[31m7.5 MB/s\u001b[0m eta \u001b[36m0:00:00\u001b[0m\n",
            "\u001b[?25h  Building wheel for clu (setup.py) ... \u001b[?25l\u001b[?25hdone\n",
            "  Building wheel for flaxformer (setup.py) ... \u001b[?25l\u001b[?25hdone\n",
            "  Building wheel for panopticapi (setup.py) ... \u001b[?25l\u001b[?25hdone\n",
            "\u001b[2K   \u001b[90m━━━━━━━━━━━━━━━━━━━━━━━━━━━━━━━━━━━━━━━━\u001b[0m \u001b[32m31.4/31.4 MB\u001b[0m \u001b[31m388.4 MB/s\u001b[0m eta \u001b[36m0:00:00\u001b[0m\n",
            "\u001b[2K     \u001b[90m━━━━━━━━━━━━━━━━━━━━━━━━━━━━━━━━━━━━━━━\u001b[0m \u001b[32m89.7/89.7 kB\u001b[0m \u001b[31m137.3 MB/s\u001b[0m eta \u001b[36m0:00:00\u001b[0m\n",
            "\u001b[?25h  Preparing metadata (setup.py) ... \u001b[?25l\u001b[?25hdone\n",
            "  Building wheel for crcmod (setup.py) ... \u001b[?25l\u001b[?25hdone\n",
            "/content/big_vision\n",
            "JAX version: 0.5.3\n",
            "JAX devices: [CudaDevice(id=0)]\n",
            "✅ OK: JAX chạy GPU thành công.\n"
          ]
        }
      ],
      "source": [
        "# =======================\n",
        "# SETUP JAX + BIG_VISION\n",
        "# =======================\n",
        "\n",
        "# 1) Kiểm tra GPU và clone repo\n",
        "import os\n",
        "if 'NVIDIA_PRODUCT_NAME' in os.environ:\n",
        "  !nvidia-smi\n",
        "import jax\n",
        "jax.devices()\n",
        "\n",
        "!git clone --quiet --branch=main --depth=1 https://github.com/google-research/big_vision\n",
        "\n",
        "# 2) Cài đặt các thư viện từ requirements.txt\n",
        "# Lưu ý: Thay đổi đường dẫn để khớp với cấu trúc thư mục của repo\n",
        "!pip -q install -r big_vision/big_vision/requirements.txt\n",
        "\n",
        "# 3) Cài đặt các thư viện cần thiết khác và chuyển thư mục\n",
        "!pip -q install --upgrade \"transformers>=4.44,<5\" accelerate pillow gdown faiss-cpu --no-cache-dir --default-timeout=180\n",
        "!pip3 -q install --no-cache-dir -U crcmod\n",
        "%cd big_vision\n",
        "\n",
        "# 4) Kiểm tra JAX dùng GPU ổn định\n",
        "os.environ.pop(\"JAX_PLATFORMS\", None)\n",
        "\n",
        "import jax.numpy as jnp\n",
        "print(\"JAX version:\", jax.__version__)\n",
        "print(\"JAX devices:\", jax.devices())\n",
        "\n",
        "assert any(d.platform == \"gpu\" for d in jax.devices()), \"JAX không thấy GPU. Hãy đảm bảo bạn đã chọn Runtime Type = GPU.\"\n",
        "\n",
        "x = jnp.ones((2048, 2048))\n",
        "y = jnp.dot(x, x.T).block_until_ready()\n",
        "print(\"✅ OK: JAX chạy GPU thành công.\")"
      ]
    },
    {
      "cell_type": "code",
      "source": [
        "# Cell 2: Tải dữ liệu và giải nén (sử dụng đường dẫn tuyệt đối)\n",
        "import zipfile\n",
        "import os\n",
        "import shutil\n",
        "\n",
        "# --- VUI LÒNG XÁC NHẬN CÁC ID TỆP DƯỚI ĐÂY ---\n",
        "keyframe_file_id = '1vTp9bsGXIJCmJGK2ufYJ1m1ZpgDfyLJz'\n",
        "map_file_id = '1ft2iRv1YBqLSOqClWHY1SXnF4p-xu4rQ'\n",
        "data_dir = '/content/data'\n",
        "\n",
        "# Tạo thư mục làm việc và tải tệp xuống\n",
        "os.makedirs(data_dir, exist_ok=True)\n",
        "print(\"Đang tải tệp tin từ Google Drive...\")\n",
        "!gdown --id $keyframe_file_id -O {data_dir}/Keyframes_L21.zip\n",
        "!gdown --id $map_file_id -O {data_dir}/map-keyframes-aic25-b1.zip\n",
        "\n",
        "# Giải nén\n",
        "with zipfile.ZipFile(f'{data_dir}/Keyframes_L21.zip', 'r') as zip_ref:\n",
        "    zip_ref.extractall(data_dir)\n",
        "with zipfile.ZipFile(f'{data_dir}/map-keyframes-aic25-b1.zip', 'r') as zip_ref:\n",
        "    zip_ref.extractall(data_dir)\n",
        "\n",
        "# Tìm đường dẫn đến keyframes\n",
        "keyframes_dir = os.path.join(data_dir, 'keyframes', 'L21_V001')\n",
        "if not os.path.exists(keyframes_dir):\n",
        "    raise FileNotFoundError(f\"Thư mục keyframes không tồn tại: {keyframes_dir}. Vui lòng kiểm tra lại ID tệp.\")\n",
        "keyframes_files = sorted([f for f in os.listdir(keyframes_dir) if f.endswith('.jpg')])\n",
        "print(f\"Đã tìm thấy {len(keyframes_files)} keyframes.\")"
      ],
      "metadata": {
        "id": "2TwKE1YhGEsC",
        "colab": {
          "base_uri": "https://localhost:8080/"
        },
        "outputId": "6552a4ec-cbf8-4549-b25a-7d65d765cd13"
      },
      "execution_count": 3,
      "outputs": [
        {
          "output_type": "stream",
          "name": "stdout",
          "text": [
            "Đang tải tệp tin từ Google Drive...\n",
            "/usr/local/lib/python3.12/dist-packages/gdown/__main__.py:140: FutureWarning: Option `--id` was deprecated in version 4.3.1 and will be removed in 5.0. You don't need to pass it anymore to use a file ID.\n",
            "  warnings.warn(\n",
            "Downloading...\n",
            "From (original): https://drive.google.com/uc?id=1vTp9bsGXIJCmJGK2ufYJ1m1ZpgDfyLJz\n",
            "From (redirected): https://drive.google.com/uc?id=1vTp9bsGXIJCmJGK2ufYJ1m1ZpgDfyLJz&confirm=t&uuid=ba78e327-54da-4b96-8829-2234200a6553\n",
            "To: /content/data/Keyframes_L21.zip\n",
            "100% 1.45G/1.45G [00:18<00:00, 80.2MB/s]\n",
            "/usr/local/lib/python3.12/dist-packages/gdown/__main__.py:140: FutureWarning: Option `--id` was deprecated in version 4.3.1 and will be removed in 5.0. You don't need to pass it anymore to use a file ID.\n",
            "  warnings.warn(\n",
            "Downloading...\n",
            "From: https://drive.google.com/uc?id=1ft2iRv1YBqLSOqClWHY1SXnF4p-xu4rQ\n",
            "To: /content/data/map-keyframes-aic25-b1.zip\n",
            "100% 1.60M/1.60M [00:00<00:00, 4.20MB/s]\n",
            "Đã tìm thấy 307 keyframes.\n"
          ]
        }
      ]
    },
    {
      "cell_type": "code",
      "source": [
        "# Sửa lại các lệnh import\n",
        "import ml_collections\n",
        "import big_vision.models.proj.image_text.two_towers as model_mod\n",
        "from big_vision.pp import builder as pp_builder\n",
        "from big_vision.pp import ops_general\n",
        "from big_vision.pp import ops_image\n",
        "from big_vision.pp import ops_text\n",
        "from big_vision.pp.proj.image_text import ops_naflex\n",
        "from big_vision.pp.proj.paligemma import ops\n",
        "from jax.experimental.pjit import pjit\n",
        "from jax.sharding import Mesh\n",
        "from jax.lax import with_sharding_constraint\n",
        "import numpy as np # Thêm numpy\n",
        "\n",
        "# --- CẤU HÌNH MÔ HÌNH NAFLEX ---\n",
        "# Chọn biến thể So400m NaFlex (kích thước lớn, hiệu suất cao, xử lý ảnh không vuông)\n",
        "VARIANT, RES, N_PATCHES = 'So400m/16', 'naflex', 256 # Hoặc 1024 tùy nhu cầu\n",
        "PATCH_SIZE = 16\n",
        "TXTVARIANT = 'So400m'\n",
        "EMBDIM = 1152\n",
        "SEQLEN = 64\n",
        "CKPT = f'siglip2_{VARIANT.lower().replace(\"/\", \"\")}_{RES}.npz'\n",
        "\n",
        "print(f\"Đang sử dụng mô hình: {VARIANT} NaFlex\")\n",
        "\n",
        "# Tải checkpoint từ Google Cloud Storage\n",
        "!test -f /tmp/{CKPT} || gsutil cp gs://big_vision/siglip2/{CKPT} /tmp/\n",
        "\n",
        "# Cấu hình mô hình NaFlex tương tự như trong file demo\n",
        "model_cfg = ml_collections.ConfigDict(dict(\n",
        "    image_model='proj.image_text.naflex_vit',\n",
        "    image=dict(\n",
        "        pool_type='map',\n",
        "        nposemb=16, # Sửa lại nposemb thành 16\n",
        "        posemb='learn_2d',\n",
        "        variant='So400m' # Thêm dòng này để mô hình biết nó cần sử dụng biến thể So400m\n",
        "    ),\n",
        "    text_model='proj.image_text.text_transformer',\n",
        "    text=dict(\n",
        "        scan=True,\n",
        "        variant=TXTVARIANT,\n",
        "        vocab_size=256_000,\n",
        "    ),\n",
        "    out_dim=[None, EMBDIM],\n",
        "    bias_init=-10,\n",
        "))\n",
        "model = model_mod.Model(**model_cfg)\n",
        "params = model_mod.load(None, f'/tmp/{CKPT}', model_cfg)\n",
        "print(\"Đã tải mô hình NaFlex thành công!\")\n",
        "\n",
        "# Định nghĩa preprocessor cho NaFlex (đảm bảo bảo toàn tỷ lệ khung hình)\n",
        "pp_naflex = pp_builder.get_preprocess_fn('|'.join((\n",
        "    'value_range(-1, 1)',\n",
        "    f'resize_to_sequence({PATCH_SIZE}, {N_PATCHES}, outkey=\"image\")',\n",
        "    f'patchify({PATCH_SIZE}, key=\"image\")',\n",
        "    'flatten([\"image\"])',\n",
        "    f'pad_to_shape(key=\"image/patches\", shape=({N_PATCHES}, None))',\n",
        "    f'pad_to_shape(key=\"image/type\", shape=({N_PATCHES},))',\n",
        "    f'pad_to_shape(key=\"image/yidx\", shape=({N_PATCHES},))',\n",
        "    f'pad_to_shape(key=\"image/xidx\", shape=({N_PATCHES},))',\n",
        "    'tuplify([\"image/patches\", \"image/type\", \"image/yidx\", \"image/xidx\"], \"image\")',\n",
        ")))\n",
        "\n",
        "# Định nghĩa preprocessor cho văn bản (sử dụng Gemma tokenizer)\n",
        "pp_txt = pp_builder.get_preprocess_fn(f'lower(key=\"text\")|tok(length={SEQLEN}, model=\"gemma\", bos=\"no\", eos=\"sticky\", key=\"text\")')\n",
        "\n",
        "# Sử dụng pjit cho JAX để tận dụng tốt GPU (tùy chọn)\n",
        "mesh = Mesh(jax.devices(), ('data',))\n",
        "data_sharding = jax.sharding.PartitionSpec(('data',))\n",
        "@pjit\n",
        "def get_image_features_pjit(patches):\n",
        "    # Sửa dòng này để sử dụng data_sharding\n",
        "    return with_sharding_constraint(model.apply({'params': params}, patches, None)[0],\n",
        "                                     jax.sharding.NamedSharding(mesh, data_sharding))\n",
        "@pjit\n",
        "def get_text_features_pjit(texts):\n",
        "    # Sửa dòng này để sử dụng data_sharding\n",
        "    return with_sharding_constraint(model.apply({'params': params}, None, texts)[1],\n",
        "                                     jax.sharding.NamedSharding(mesh, data_sharding))"
      ],
      "metadata": {
        "id": "WROkvtbdGwe-",
        "colab": {
          "base_uri": "https://localhost:8080/"
        },
        "outputId": "5430c24a-8b18-49ef-d4c6-56b4dfc57e9f"
      },
      "execution_count": 4,
      "outputs": [
        {
          "output_type": "stream",
          "name": "stdout",
          "text": [
            "Đang sử dụng mô hình: So400m/16 NaFlex\n",
            "Copying gs://big_vision/siglip2/siglip2_so400m16_naflex.npz...\n",
            "| [1 files][  4.2 GiB/  4.2 GiB]   39.7 MiB/s                                   \n",
            "Operation completed over 1 objects/4.2 GiB.                                      \n",
            "Đã tải mô hình NaFlex thành công!\n"
          ]
        }
      ]
    },
    {
      "cell_type": "code",
      "source": [
        "# Thêm các import cần thiết\n",
        "import os\n",
        "import numpy as np\n",
        "from PIL import Image # Thêm dòng này để import lớp Image\n",
        "import jax\n",
        "import jax.numpy as jnp\n",
        "from tqdm import tqdm # Import tqdm cho thanh tiến trình\n",
        "import math\n",
        "import gc\n",
        "\n",
        "# === Cell 4 (đã sửa): Trích xuất SigLIP embeddings cho TOÀN BỘ ảnh, có resume ===\n",
        "\n",
        "if \"keyframes_files\" in globals():\n",
        "    frames = sorted([f for f in keyframes_files if f.lower().endswith((\".jpg\",\".jpeg\",\".png\"))])\n",
        "else:\n",
        "    # Lỗi nếu keyframes_dir không tồn tại\n",
        "    if not os.path.exists(keyframes_dir):\n",
        "        raise FileNotFoundError(f\"Thư mục keyframes không tồn tại: {keyframes_dir}\")\n",
        "    frames = sorted([f for f in os.listdir(keyframes_dir) if f.lower().endswith((\".jpg\",\".jpeg\",\".png\"))])\n",
        "\n",
        "N = len(frames)\n",
        "assert N > 0, \"Không tìm thấy ảnh trong keyframes_dir\"\n",
        "BATCH_SIZE = 32\n",
        "print(\"Số ảnh:\", N)\n",
        "\n",
        "# Suy ra chiều D từ 1 ảnh\n",
        "with jax.disable_jit():\n",
        "    with Image.open(os.path.join(keyframes_dir, frames[0])).convert(\"RGB\") as _im:\n",
        "        img_np = np.array(_im)\n",
        "        tmp = pp_naflex(dict(image=img_np))['image']\n",
        "        tmp_jnp = tuple(jnp.array(x)[jnp.newaxis, ...] for x in tmp)\n",
        "        D = model.apply({'params': params}, tmp_jnp, None)[0].shape[1]\n",
        "print(f\"Chiều của vector embedding: {D}\")\n",
        "\n",
        "# Chuẩn bị memmap (nếu đã có -> r+, nếu chưa -> w+)\n",
        "memmap_path = \"siglip_features.mmap\"\n",
        "mode = \"r+\" if os.path.exists(memmap_path) else \"w+\"\n",
        "features = np.memmap(memmap_path, dtype=\"float32\", mode=mode, shape=(N, D))\n",
        "\n",
        "# Resume index (số batch đã hoàn thành)\n",
        "idx_path = memmap_path + \".idx\"\n",
        "start_batch = 0\n",
        "if os.path.exists(idx_path):\n",
        "    try:\n",
        "        with open(idx_path, \"r\") as f:\n",
        "            start_batch = int(f.read().strip() or \"0\")\n",
        "    except:\n",
        "        start_batch = 0\n",
        "max_batches = math.ceil(N / BATCH_SIZE)\n",
        "start_batch = max(0, min(start_batch, max_batches))\n",
        "print(\"Resume từ batch index:\", start_batch, \"/\", max_batches)\n",
        "\n",
        "# Vòng lặp batched\n",
        "for bi in tqdm(range(start_batch, max_batches)):\n",
        "    i = bi * BATCH_SIZE\n",
        "    batch_files = frames[i:i + BATCH_SIZE]\n",
        "    batch_imgs = []\n",
        "    for f in batch_files:\n",
        "        img_path = os.path.join(keyframes_dir, f)\n",
        "        with Image.open(img_path).convert(\"RGB\") as im:\n",
        "            batch_imgs.append(np.array(im.copy()))\n",
        "\n",
        "    inputs_pp = [pp_naflex(dict(image=img))['image'] for img in batch_imgs]\n",
        "    inputs_jnp = tuple(jnp.array(x) for x in zip(*inputs_pp))\n",
        "\n",
        "    feats = get_image_features_pjit(inputs_jnp)\n",
        "    feats = feats / jnp.linalg.norm(feats, axis=-1, keepdims=True)\n",
        "    vecs = np.asarray(feats)\n",
        "\n",
        "    features[i:i + len(batch_files), :] = vecs\n",
        "    features.flush()\n",
        "\n",
        "    with open(idx_path, \"w\") as f:\n",
        "        f.write(str(bi + 1))\n",
        "\n",
        "    del batch_imgs, inputs_pp, inputs_jnp, feats, vecs\n",
        "    gc.collect()\n",
        "\n",
        "final = np.asarray(features)\n",
        "np.save(\"siglip_features.npy\", final)\n",
        "np.save(\"siglip_frames_order.npy\", np.array(frames))\n",
        "print(\"Hoàn tất:\", final.shape, \"-> siglip_features.npy\")\n",
        "\n",
        "try:\n",
        "    os.remove(idx_path)\n",
        "except FileNotFoundError:\n",
        "    pass"
      ],
      "metadata": {
        "id": "yjg0JseKNMRJ",
        "colab": {
          "base_uri": "https://localhost:8080/"
        },
        "outputId": "a960871d-0f59-4534-ed83-a0df0e3b7b35"
      },
      "execution_count": 5,
      "outputs": [
        {
          "output_type": "stream",
          "name": "stdout",
          "text": [
            "Số ảnh: 307\n",
            "Chiều của vector embedding: 1152\n",
            "Resume từ batch index: 0 / 10\n"
          ]
        },
        {
          "output_type": "stream",
          "name": "stderr",
          "text": [
            "100%|██████████| 10/10 [01:50<00:00, 11.01s/it]"
          ]
        },
        {
          "output_type": "stream",
          "name": "stdout",
          "text": [
            "Hoàn tất: (307, 1152) -> siglip_features.npy\n"
          ]
        },
        {
          "output_type": "stream",
          "name": "stderr",
          "text": [
            "\n"
          ]
        }
      ]
    },
    {
      "cell_type": "code",
      "source": [
        "import faiss\n",
        "import pandas as pd\n",
        "\n",
        "embedding_path = \"siglip_features.npy\"\n",
        "image_embeddings = np.load(embedding_path).astype(\"float32\")\n",
        "print(\"Image embeddings shape:\", image_embeddings.shape)\n",
        "\n",
        "d = image_embeddings.shape[1]\n",
        "index = faiss.IndexFlatIP(d)\n",
        "index.add(image_embeddings)\n",
        "print(f\"Đã thêm {index.ntotal} vector vào chỉ mục FAISS (dim={d})\")\n",
        "\n",
        "# Load CSV map\n",
        "# Sửa đường dẫn file CSV\n",
        "csv_file_path = \"/content/data/map-keyframes/L21_V001.csv\"\n",
        "map_df = pd.read_csv(csv_file_path)\n",
        "print(\"CSV columns:\", list(map_df.columns))\n",
        "print(f\"Đã load {len(map_df)} dòng ánh xạ từ {csv_file_path}\")\n",
        "\n",
        "if \"frame_idx\" in map_df.columns:\n",
        "    map_df[\"frame_idx\"] = pd.to_numeric(map_df[\"frame_idx\"], errors=\"coerce\")\n",
        "if \"pts_time\" in map_df.columns:\n",
        "    map_df[\"pts_time\"] = pd.to_numeric(map_df[\"pts_time\"], errors=\"coerce\")\n",
        "\n",
        "if \"frame_idx\" in map_df.columns:\n",
        "    map_df.set_index(\"frame_idx\", inplace=True, drop=False)"
      ],
      "metadata": {
        "id": "QbaCR-tQNN2v",
        "colab": {
          "base_uri": "https://localhost:8080/"
        },
        "outputId": "427e6c68-f805-40fe-cf12-fe29304ace8f"
      },
      "execution_count": 6,
      "outputs": [
        {
          "output_type": "stream",
          "name": "stdout",
          "text": [
            "Image embeddings shape: (307, 1152)\n",
            "Đã thêm 307 vector vào chỉ mục FAISS (dim=1152)\n",
            "CSV columns: ['n', 'pts_time', 'fps', 'frame_idx']\n",
            "Đã load 307 dòng ánh xạ từ /content/data/map-keyframes/L21_V001.csv\n"
          ]
        }
      ]
    },
    {
      "cell_type": "code",
      "source": [
        "import re\n",
        "_num_pat = re.compile(r'(\\d+)')\n",
        "def extract_frame_idx_from_name(fname: str):\n",
        "    matches = _num_pat.findall(os.path.splitext(os.path.basename(fname))[0])\n",
        "    return int(matches[-1]) if matches else None\n",
        "\n",
        "if os.path.exists(\"siglip_frames_order.npy\"):\n",
        "    frames = np.load(\"siglip_frames_order.npy\", allow_pickle=True).tolist()\n",
        "else:\n",
        "    frames = sorted([f for f in os.listdir(keyframes_dir) if f.lower().endswith((\".jpg\",\".jpeg\",\".png\"))])\n",
        "\n",
        "if len(frames) != index.ntotal:\n",
        "    raise ValueError(f\"Số frames ({len(frames)}) không khớp số vector trong index ({index.ntotal}). \"\n",
        "                     \"Hãy đảm bảo Cell 3 và Cell 5 dùng cùng danh sách/thuật toán sort.\")\n",
        "\n",
        "if 'frame_idx' not in map_df.columns:\n",
        "    raise ValueError(\"CSV không có cột 'frame_idx'. Các cột hiện có: \" + \", \".join(map_df.columns))\n",
        "\n",
        "map_df['frame_idx'] = pd.to_numeric(map_df['frame_idx'], errors='coerce')\n",
        "if 'pts_time' in map_df.columns:\n",
        "    map_df['pts_time'] = pd.to_numeric(map_df['pts_time'], errors='coerce')\n",
        "\n",
        "idx2row = {int(r.frame_idx): r for _, r in map_df.dropna(subset=['frame_idx']).iterrows()}\n",
        "\n",
        "def search_keyframes(query_text, k=10):\n",
        "    with jax.disable_jit():\n",
        "        t_inputs_np = np.array([pp_txt({'text': query_text})['text']])\n",
        "        t_inputs_jnp = jnp.array(t_inputs_np)\n",
        "\n",
        "        t_feats = get_text_features_pjit(t_inputs_jnp)\n",
        "\n",
        "    t_vec = np.asarray(t_feats).squeeze()\n",
        "    t_vec = t_vec / (np.linalg.norm(t_vec) + 1e-12)\n",
        "    t_vec = np.ascontiguousarray(t_vec.astype(\"float32\")).reshape(1, -1)\n",
        "\n",
        "    k = min(k, index.ntotal)\n",
        "    sims, indices = index.search(t_vec, k)\n",
        "\n",
        "    results = []\n",
        "    for rank, idx in enumerate(indices[0]):\n",
        "        fname = frames[int(idx)]\n",
        "        fidx = extract_frame_idx_from_name(fname)\n",
        "        row = idx2row.get(fidx)\n",
        "\n",
        "        pts = None\n",
        "        if row is not None and 'pts_time' in row and pd.notnull(row['pts_time']):\n",
        "            try: pts = float(row['pts_time'])\n",
        "            except: pts = row['pts_time']\n",
        "\n",
        "        results.append({\n",
        "            \"rank\": rank + 1,\n",
        "            \"score_cosine\": float(sims[0][rank]),\n",
        "            \"filename\": fname,\n",
        "            \"filepath\": os.path.join(keyframes_dir, fname),\n",
        "            \"frame_idx\": fidx,\n",
        "            \"pts_time\": pts,\n",
        "        })\n",
        "    return results"
      ],
      "metadata": {
        "id": "rdZatZvKNPjf"
      },
      "execution_count": 7,
      "outputs": []
    },
    {
      "cell_type": "code",
      "source": [
        "# Ví dụ truy vấn\n",
        "query = str(input(\"Nhập truy vấn: \"))\n",
        "top_results = search_keyframes(query, k=10)\n",
        "\n",
        "print(f\"Tìm thấy {len(top_results)} kết quả cho truy vấn: '{query}'\")\n",
        "print(\"\\nTop 5 kết quả:\")\n",
        "for r in top_results[:5]:\n",
        "    ts_show = f\"{r['pts_time']:.2f}s\" if isinstance(r[\"pts_time\"], (int, float)) else r[\"pts_time\"]\n",
        "    print(f\"Top {r['rank']}: {r['filename']} | frame_idx={r['frame_idx']} | pts_time={ts_show} | cosine={r['score_cosine']:.4f}\")"
      ],
      "metadata": {
        "id": "krHqUFSrNQ2l",
        "colab": {
          "base_uri": "https://localhost:8080/"
        },
        "outputId": "6ee1024b-13d4-46d9-a535-f4fc589b0c91"
      },
      "execution_count": 8,
      "outputs": [
        {
          "output_type": "stream",
          "name": "stdout",
          "text": [
            "Nhập truy vấn: A medium-shot, eye-level photo of a shoreline with a makeshift fence of dead, broken branches and wooden posts in the foreground, with the calm sea and a pale sky in the background. The text \"HTV9 HD\" and a timestamp are visible in the top right corner.\n",
            "Tìm thấy 10 kết quả cho truy vấn: 'A medium-shot, eye-level photo of a shoreline with a makeshift fence of dead, broken branches and wooden posts in the foreground, with the calm sea and a pale sky in the background. The text \"HTV9 HD\" and a timestamp are visible in the top right corner.'\n",
            "\n",
            "Top 5 kết quả:\n",
            "Top 1: 020.jpg | frame_idx=20 | pts_time=None | cosine=0.1403\n",
            "Top 2: 029.jpg | frame_idx=29 | pts_time=None | cosine=0.1284\n",
            "Top 3: 028.jpg | frame_idx=28 | pts_time=None | cosine=0.1095\n",
            "Top 4: 045.jpg | frame_idx=45 | pts_time=None | cosine=0.1084\n",
            "Top 5: 046.jpg | frame_idx=46 | pts_time=None | cosine=0.0991\n"
          ]
        }
      ]
    }
  ]
}